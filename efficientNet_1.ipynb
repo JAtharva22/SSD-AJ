{
 "cells": [
  {
   "cell_type": "code",
   "execution_count": 7,
   "metadata": {},
   "outputs": [
    {
     "name": "stdout",
     "output_type": "stream",
     "text": [
      "71025739-black-man-holding-a-pistol.jpg  efficientNet_1.ipynb\n",
      "detect.py\t\t\t\t __pycache__\n"
     ]
    }
   ],
   "source": [
    "!ls"
   ]
  },
  {
   "cell_type": "code",
   "execution_count": null,
   "metadata": {},
   "outputs": [],
   "source": [
    "import torch\n",
    "from detect import load_model, detect_and_save\n",
    "\n",
    "model_path = \"/home/atharvaj/Desktop/SSD/outputs/model_final.pth\"\n",
    "test_image = \"pynb_files/71025739-black-man-holding-a-pistol.jpg\"\n",
    "save_folder = \"/home/atharvaj/Desktop/SSD/outputs/detected_images\"\n",
    "config_file = \"configs/efficient_net_b3_ssd300_voc0712.yaml\"\n",
    "\n",
    "device = torch.device(\"cuda\" if torch.cuda.is_available() else \"cpu\")\n",
    "model = load_model(model_path, device, config_file)\n",
    "\n",
    "detect_and_save(test_image, model, device, save_folder)"
   ]
  },
  {
   "cell_type": "code",
   "execution_count": null,
   "metadata": {},
   "outputs": [
    {
     "name": "stdout",
     "output_type": "stream",
     "text": [
      "Loaded pretrained weights for efficientnet-b3\n",
      "[{'boxes': tensor([[ 44.7147, 119.9638, 123.8681, 190.3401],\n",
      "        [212.6194,  48.5235, 280.1056, 115.8059],\n",
      "        [ 61.4707, 109.4059, 285.4082, 227.2259],\n",
      "        [102.7544, 121.3475, 313.4317, 299.2346],\n",
      "        [194.0627,  13.9106, 293.7499, 111.6994],\n",
      "        [ 39.8088, 119.7555,  92.4982, 166.5673],\n",
      "        [145.2467, 177.3084, 231.0784, 213.8669],\n",
      "        [169.5887, 185.8984, 202.7839, 296.7139],\n",
      "        [ 71.3512, 144.4686, 116.8781, 194.8947],\n",
      "        [120.6335, 180.5195, 197.8163, 217.3339],\n",
      "        [192.6308,  14.5668, 291.9875, 126.2189],\n",
      "        [ 40.7553, 118.3781, 134.7775, 174.3169],\n",
      "        [ 99.8540, 173.7797, 171.2610, 227.8081],\n",
      "        [ 41.1835, 110.7646, 131.9575, 254.9621],\n",
      "        [192.1370,  94.7192, 264.6241, 144.6232],\n",
      "        [182.6012, 174.0344, 210.0129, 208.4715],\n",
      "        [121.7317, 182.1980, 152.3584, 207.2881],\n",
      "        [ 46.5200, 116.2931, 163.4342, 237.2173],\n",
      "        [151.2939, 152.3492, 196.7062, 172.4819],\n",
      "        [155.1247,  61.1037, 294.5165, 261.8741],\n",
      "        [199.6438,  58.2263, 227.5529,  80.6934],\n",
      "        [152.7338, 159.9000, 237.5739, 237.3416],\n",
      "        [126.4658, 191.6678, 168.9394, 214.1909],\n",
      "        [267.3650, 257.2865, 291.8622, 291.1269],\n",
      "        [209.6923,  64.7972, 230.5878, 103.1735],\n",
      "        [236.6046, 208.8254, 255.4404, 240.4175],\n",
      "        [239.8524,  43.3205, 281.8464,  97.4586],\n",
      "        [224.4720,  77.8723, 263.7553, 111.9603],\n",
      "        [208.0926, 113.1176, 253.4813, 137.9515],\n",
      "        [ 83.4715, 157.9191, 157.7775, 207.1503],\n",
      "        [136.5774, 106.3695, 293.6302, 185.1628],\n",
      "        [113.4291, 194.0180, 184.4273, 262.3859],\n",
      "        [168.3767, 155.5204, 207.3399, 256.0933],\n",
      "        [255.0176, 122.2467, 303.3106, 190.6189],\n",
      "        [145.5163, 226.8934, 198.0910, 297.1371],\n",
      "        [206.3354,  53.0660, 250.6527, 106.8361],\n",
      "        [208.9305, 118.8575, 294.8598, 163.8963],\n",
      "        [ 90.4035, 161.3592, 182.4282, 246.4587],\n",
      "        [256.6861, 166.4777, 295.3724, 216.8414],\n",
      "        [222.5231, 124.9600, 301.9005, 168.2273],\n",
      "        [ 42.1746, 117.4478, 126.3443, 161.7857],\n",
      "        [213.0021, 215.3584, 257.2956, 261.5030],\n",
      "        [ 56.0130, 127.8017, 108.3968, 172.3926],\n",
      "        [191.6492,  58.3993, 227.8690, 103.8244],\n",
      "        [194.1222,  56.1764, 215.7296,  87.0669],\n",
      "        [ 47.9742,  43.9498, 297.6969, 151.8987],\n",
      "        [181.5272,  68.6243, 281.5047, 164.6671],\n",
      "        [261.0834, 249.9038, 297.4714, 302.1120],\n",
      "        [141.3405, 237.2870, 181.6287, 265.1883],\n",
      "        [ 77.7117, 172.6721, 120.2949, 198.8826],\n",
      "        [151.5667, 133.8802, 300.9289, 218.9712],\n",
      "        [ 92.0759, 232.7253, 260.3757, 300.3199],\n",
      "        [186.6276,  57.5172, 207.5769,  85.3814],\n",
      "        [174.4338,  24.1216, 294.6302, 172.6113],\n",
      "        [164.7687, 126.5349, 253.1913, 289.5295],\n",
      "        [ 98.7588,  52.2747, 145.0004, 123.0240],\n",
      "        [211.4920, 106.0350, 256.3333, 128.7360],\n",
      "        [203.2930,  14.1321, 255.8790,  60.8069],\n",
      "        [ 54.8708, 113.2487, 217.7604, 185.4903],\n",
      "        [135.5965, 197.3461, 185.3872, 213.4906],\n",
      "        [256.0718, 247.1247, 294.2799, 298.1458],\n",
      "        [ 70.6530, 133.5844, 217.7494, 267.2924],\n",
      "        [182.2182,  30.2075, 225.8024,  99.6143],\n",
      "        [205.3210, 230.4436, 233.0994, 273.9881],\n",
      "        [249.1595,  55.8333, 274.6147,  86.0489],\n",
      "        [194.7793,  22.5944, 245.4516, 111.0467],\n",
      "        [229.8818, 115.4306, 300.8954, 290.7289],\n",
      "        [116.2692, 162.0246, 197.1191, 200.8005],\n",
      "        [ 51.6844, 123.2170, 112.3733, 155.1889],\n",
      "        [103.6635, 174.6232, 140.9234, 204.0885],\n",
      "        [ 43.5090, 110.9105, 135.5794, 158.9648],\n",
      "        [195.4638, 165.0738, 213.3908, 191.6292],\n",
      "        [101.8261, 193.5250, 263.0413, 278.0712],\n",
      "        [ 91.3008, 179.5800, 125.0844, 210.3581],\n",
      "        [204.2107,  46.7342, 252.9461, 103.0880],\n",
      "        [ 98.7304, 173.5478, 119.8337, 204.1521],\n",
      "        [ 39.7009, 121.6899,  98.0120, 183.3577],\n",
      "        [130.0029, 262.4769, 217.2534, 298.3373],\n",
      "        [ 68.4385, 125.5786, 113.2093, 154.8548],\n",
      "        [ 61.0223, 135.0491,  98.2935, 162.9689],\n",
      "        [125.1388, 220.5649, 197.3028, 268.7306],\n",
      "        [230.1245, 222.7250, 255.0569, 266.3820],\n",
      "        [-19.4617, -56.3168,  87.5081, 115.2565],\n",
      "        [149.3668, 194.6490, 207.8467, 267.6034],\n",
      "        [ 39.9492, 123.6202,  80.6207, 150.0029],\n",
      "        [ 94.8641, 162.4940, 137.4514, 210.2323],\n",
      "        [191.7160,  50.6021, 230.7100,  89.4148],\n",
      "        [266.0373,  61.3039, 296.1436, 163.2085],\n",
      "        [262.5385, 253.5940, 280.0381, 287.4587],\n",
      "        [175.7438, 154.9115, 222.2441, 218.3236],\n",
      "        [148.2279, 152.2724, 165.3306, 176.3948],\n",
      "        [245.6344,  10.3147, 292.2277,  56.7201],\n",
      "        [ 96.4992, 125.3927, 146.3170, 168.6022],\n",
      "        [120.8507, 156.8148, 183.4379, 214.0931],\n",
      "        [122.4902, 160.5874, 295.8416, 249.8031],\n",
      "        [ 41.0749, 121.4629,  72.3683, 148.2702],\n",
      "        [255.4694,  62.2986, 279.2480,  86.8270],\n",
      "        [ 59.4436, 135.4718,  79.8708, 172.3667],\n",
      "        [104.7476, 175.3088, 138.6123, 205.5293],\n",
      "        [ 50.5456, 128.8886,  71.9424, 162.7335]], device='cuda:0'), 'labels': tensor([4, 1, 2, 2, 1, 4, 3, 3, 1, 3, 4, 2, 3, 4, 3, 3, 3, 2, 3, 2, 3, 3, 3, 3,\n",
      "        1, 3, 4, 1, 3, 3, 2, 1, 3, 2, 3, 1, 3, 1, 1, 2, 3, 3, 4, 4, 3, 2, 3, 3,\n",
      "        3, 1, 2, 3, 3, 2, 2, 3, 3, 1, 2, 3, 1, 2, 3, 3, 4, 3, 2, 3, 2, 3, 4, 3,\n",
      "        3, 1, 4, 1, 3, 3, 4, 4, 3, 3, 3, 3, 4, 2, 3, 2, 3, 3, 3, 4, 3, 1, 2, 1,\n",
      "        1, 3, 4, 3], device='cuda:0'), 'scores': tensor([0.5725, 0.1939, 0.1770, 0.1701, 0.1617, 0.1474, 0.1440, 0.1423, 0.1323,\n",
      "        0.1194, 0.1099, 0.0978, 0.0956, 0.0951, 0.0946, 0.0920, 0.0905, 0.0904,\n",
      "        0.0893, 0.0891, 0.0878, 0.0821, 0.0811, 0.0792, 0.0791, 0.0784, 0.0783,\n",
      "        0.0767, 0.0763, 0.0753, 0.0749, 0.0746, 0.0746, 0.0744, 0.0736, 0.0736,\n",
      "        0.0724, 0.0724, 0.0721, 0.0715, 0.0713, 0.0708, 0.0703, 0.0668, 0.0663,\n",
      "        0.0654, 0.0647, 0.0644, 0.0641, 0.0636, 0.0628, 0.0627, 0.0617, 0.0616,\n",
      "        0.0602, 0.0600, 0.0600, 0.0600, 0.0589, 0.0583, 0.0580, 0.0579, 0.0573,\n",
      "        0.0570, 0.0570, 0.0568, 0.0564, 0.0562, 0.0562, 0.0561, 0.0561, 0.0557,\n",
      "        0.0556, 0.0551, 0.0535, 0.0534, 0.0533, 0.0524, 0.0524, 0.0523, 0.0519,\n",
      "        0.0517, 0.0515, 0.0510, 0.0506, 0.0506, 0.0505, 0.0504, 0.0504, 0.0504,\n",
      "        0.0502, 0.0496, 0.0495, 0.0493, 0.0491, 0.0491, 0.0490, 0.0490, 0.0489,\n",
      "        0.0488], device='cuda:0')}]\n",
      "Detected 1 objects in image /home/atharvaj/Desktop/SSD/pynb_files/71025739-black-man-holding-a-pistol.jpg\n",
      "[[ 44.71472  119.963776 123.868126 190.34015 ]] [0.5724571] [4]\n",
      "Saved detection result to /home/atharvaj/Desktop/SSD/outputs/detected.jpg\n"
     ]
    }
   ],
   "source": [
    "# !python detect.py --config configs/efficient_net_b3_ssd300_voc0712.yaml --ckpt /home/atharvaj/Desktop/SSD/outputs/model_final.pth --image /home/atharvaj/Desktop/SSD/pynb_files/71025739-black-man-holding-a-pistol.jpg --output /home/atharvaj/Desktop/SSD/outputs/detected.jpg"
   ]
  },
  {
   "cell_type": "code",
   "execution_count": 2,
   "metadata": {},
   "outputs": [
    {
     "name": "stdout",
     "output_type": "stream",
     "text": [
      "Image saved to: pynb_files/resized_image_white1.jpg\n"
     ]
    }
   ],
   "source": [
    "from PIL import Image\n",
    "import os\n",
    "\n",
    "# Open the image file (without using 'with' block to avoid premature closure)\n",
    "img = Image.open(\"pynb_files/230113051.jpg\")\n",
    "\n",
    "# Resize the image to 320x320\n",
    "resized_img = img.resize((300, 300))\n",
    "\n",
    "# Specify the folder path where you want to save the resized image\n",
    "folder_path = \"pynb_files/\"  # Replace with your desired folder path\n",
    "os.makedirs(folder_path, exist_ok=True)  # Create the folder if it doesn't exist\n",
    "\n",
    "# Specify the file name for the resized image\n",
    "save_path = os.path.join(folder_path, \"resized_image_white1.jpg\")\n",
    "\n",
    "# Save the resized image to the specified path\n",
    "resized_img.save(save_path)\n",
    "\n",
    "print(f\"Image saved to: {save_path}\")\n"
   ]
  },
  {
   "cell_type": "code",
   "execution_count": 7,
   "metadata": {},
   "outputs": [
    {
     "name": "stdout",
     "output_type": "stream",
     "text": [
      "Loaded pretrained weights for efficientnet-b3\n",
      "Box: tensor([ 50.9739,  23.7981,  87.8216, 131.8879], device='cuda:0'), Label: knife, Score: 0.15\n",
      "Saved result to /home/atharvaj/Desktop/SSD/outputs/resized_image_white1.jpg\n"
     ]
    }
   ],
   "source": [
    "!python detect2.py --config-file configs/efficient_net_b3_ssd300_voc0712.yaml --checkpoint-file /home/atharvaj/Desktop/SSD/models_pth/model_final.pth --input-images pynb_files/resized_image_white1.jpg --output-dir /home/atharvaj/Desktop/SSD/outputs/ --threshold 0.145"
   ]
  },
  {
   "cell_type": "code",
   "execution_count": null,
   "metadata": {},
   "outputs": [
    {
     "name": "stdout",
     "output_type": "stream",
     "text": [
      "Downloading: \"https://github.com/d-li14/mobilenetv3.pytorch/raw/master/pretrained/mobilenetv3-large-1cd25616.pth\" to /home/atharvaj/.torch/models/mobilenetv3-large-1cd25616.pth\n",
      "100%|██████████████████████████████████████| 21.1M/21.1M [00:05<00:00, 3.85MB/s]\n",
      "Box: tensor([ 44.3406,  21.3780,  96.3912, 167.4322], device='cuda:0'), Label: knife, Score: 0.26\n",
      "tensor(44.3406, device='cuda:0') tensor(21.3780, device='cuda:0') tensor(96.3912, device='cuda:0') tensor(167.4322, device='cuda:0')\n",
      "Saved result to /home/atharvaj/Desktop/SSD/outputs/resized_image_white.jpg\n"
     ]
    }
   ],
   "source": [
    "!python detect2.py --config-file /home/atharvaj/Desktop/SSD/configs/mobilenet_v3_ssd320_voc0712.yaml --checkpoint-file /home/atharvaj/Desktop/SSD/models_pth/model_004500.pth --input-images pynb_files/resized_image_white.jpg --output-dir /home/atharvaj/Desktop/SSD/outputs/ --threshold 0.15"
   ]
  },
  {
   "cell_type": "code",
   "execution_count": null,
   "metadata": {},
   "outputs": [],
   "source": []
  }
 ],
 "metadata": {
  "kernelspec": {
   "display_name": "venv",
   "language": "python",
   "name": "python3"
  },
  "language_info": {
   "codemirror_mode": {
    "name": "ipython",
    "version": 3
   },
   "file_extension": ".py",
   "mimetype": "text/x-python",
   "name": "python",
   "nbconvert_exporter": "python",
   "pygments_lexer": "ipython3",
   "version": "3.12.3"
  }
 },
 "nbformat": 4,
 "nbformat_minor": 2
}
